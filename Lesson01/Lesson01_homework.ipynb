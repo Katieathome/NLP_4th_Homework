{
 "cells": [
  {
   "cell_type": "markdown",
   "metadata": {},
   "source": [
    "# 基础理论部分"
   ]
  },
  {
   "cell_type": "markdown",
   "metadata": {
    "scrolled": true
   },
   "source": [
    "\n",
    "0. Can you come up out 3 sceneraies which use AI methods?\n",
    "\n",
    "Ans: Face recognition; Chat Robot; Spam automatic detect and removal\n",
    "\n",
    "\n",
    "1. How do we use Github; Why do we use Jupyter and Pycharm;\n",
    "\n",
    "Ans: we can share code on Github, it helps control version and collaborate.\n",
    "     Jupyter can show result instantly, good for class teaching\n",
    "     Pycharm works well with larger project \n",
    "\n",
    "\n",
    "2. What's the Probability Model?\n",
    "\n",
    "Ans: It is based on Bayesian's probability algorithm, the event are not independent, we can use past data to create a pattern and predict future result. The larger the datebase,the more accurate the pattern is.\n",
    "\n",
    "\n",
    "3. Can you came up with some sceneraies at which we could use Probability Model?\n",
    "\n",
    "Ans: predict tomorrow's weather; Predict aftershocks that occurred after a major earthquake\n",
    "\n",
    "\n",
    "4. Why do we use probability and what's the difficult points for programming based on parsing and pattern match?\n",
    "\n",
    "Ans: it can be more effective and we don't need to get deep down on the very details of the actual event.\n",
    "    the difficult lies in data clean and we need a very large datebase.\n",
    "\n",
    "\n",
    "5. What's the Language Model;\n",
    "\n",
    "Ans: use probability to predict the order or occurance of a sentence or phrase\n",
    "\n",
    "\n",
    "6. Can you came up with some sceneraies at which we could use Language Model?\n",
    "\n",
    "Ans: Speech Recognition; Translation\n",
    "\n",
    "\n",
    "7. What's the 1-gram language model;\n",
    "\n",
    "Ans: each word is independant, we compute the word itself's probility. It is simple probability of\n",
    "a given word amongst all words.\n",
    "\n",
    "\n",
    "8. What's the disadvantages and advantages of 1-gram language model;\n",
    "\n",
    "Ans:  the result is not ideal\n",
    "advantage: the math is relatively simple and don't need much computer resouce\n",
    "\n",
    "\n",
    "9. What't the 2-gram models;\n",
    "\n",
    "Ans: given two words, we can calculate the occurance of the orders, and by comparing the probility, we can decide which combination(order) is more likely occured in real life. \n",
    " "
   ]
  },
  {
   "cell_type": "markdown",
   "metadata": {},
   "source": [
    "# 编程实践部分"
   ]
  },
  {
   "cell_type": "markdown",
   "metadata": {},
   "source": [
    "# 1. 设计你自己的句子生成器"
   ]
  },
  {
   "cell_type": "code",
   "execution_count": 116,
   "metadata": {},
   "outputs": [],
   "source": [
    "import random"
   ]
  },
  {
   "cell_type": "code",
   "execution_count": 117,
   "metadata": {},
   "outputs": [],
   "source": [
    "guest = \"\"\"\n",
    "guest = 自己 动作 蔬菜 制作 肉制品\n",
    "自己 = 我 | 俺 | 我们\n",
    "动作 =  要吃 | 想吃\n",
    "蔬菜 =  白菜 | 番茄 | 粉条 | 土豆 | 茄子\n",
    "制作 = 炒 | 烧 | 炖\n",
    "肉制品  = 鸡蛋 | 牛肉 | 猪肉 | 小龙虾\n",
    "\"\"\"\n",
    "\n",
    "waiter = \"\"\"\n",
    "waiter = 寒暄 询问 吃什么 结尾\n",
    "寒暄 = 人称 打招呼\n",
    "人称 = 先生 | 女士 | 小朋友\n",
    "打招呼 = 你好 | 您好\n",
    "询问 = 请问你要 | 您需要\n",
    "结尾 = 吗？\n",
    "\"\"\""
   ]
  },
  {
   "cell_type": "code",
   "execution_count": 118,
   "metadata": {},
   "outputs": [],
   "source": [
    "def  create_Grammar(str,split1 = '=',str_split = '\\n'):\n",
    "    grammar = {}\n",
    "    for line in str.split(str_split):\n",
    "        if not line.strip(): continue\n",
    "        exp, stmt = line.split(split1)\n",
    "        grammar[exp.strip()] = [s.split() for s in stmt.split('|')]\n",
    "    return grammar"
   ]
  },
  {
   "cell_type": "code",
   "execution_count": 119,
   "metadata": {},
   "outputs": [],
   "source": [
    "gu =create_Grammar(guest)"
   ]
  },
  {
   "cell_type": "code",
   "execution_count": 120,
   "metadata": {},
   "outputs": [],
   "source": [
    "wa = create_Grammar(waiter)"
   ]
  },
  {
   "cell_type": "code",
   "execution_count": 121,
   "metadata": {},
   "outputs": [
    {
     "name": "stdout",
     "output_type": "stream",
     "text": [
      "{'guest': [['自己', '动作', '蔬菜', '制作', '肉制品']], '自己': [['我'], ['俺'], ['我们']], '动作': [['要吃'], ['想吃']], '蔬菜': [['白菜'], ['番茄'], ['粉条'], ['土豆'], ['茄子']], '制作': [['炒'], ['烧'], ['炖']], '肉制品': [['鸡蛋'], ['牛肉'], ['猪肉'], ['小龙虾']]} {'waiter': [['寒暄', '询问', '吃什么', '结尾']], '寒暄': [['人称', '打招呼']], '人称': [['先生'], ['女士'], ['小朋友']], '打招呼': [['你好'], ['您好']], '询问': [['请问你要'], ['您需要']], '结尾': [['吗？']]}\n"
     ]
    }
   ],
   "source": [
    "print(gu,wa)"
   ]
  },
  {
   "cell_type": "code",
   "execution_count": 122,
   "metadata": {},
   "outputs": [],
   "source": [
    "choice = random.choice"
   ]
  },
  {
   "cell_type": "code",
   "execution_count": 110,
   "metadata": {},
   "outputs": [],
   "source": [
    "def generate(gram,target):\n",
    "    if target not in gram : return target\n",
    "    expaned =[ generate(gram,t) for t in choice(gram[target])]\n",
    "    return ''.join([e if e != '/n' else '\\n' for e in expaned if e != 'null'])  "
   ]
  },
  {
   "cell_type": "code",
   "execution_count": 111,
   "metadata": {},
   "outputs": [
    {
     "name": "stdout",
     "output_type": "stream",
     "text": [
      "我要吃粉条烧小龙虾\n"
     ]
    }
   ],
   "source": [
    "print(generate(gu,'guest'))"
   ]
  },
  {
   "cell_type": "code",
   "execution_count": 114,
   "metadata": {},
   "outputs": [],
   "source": [
    "def generate_n(n):\n",
    "    for i in range(1,n):\n",
    "        print(generate(wa,'waiter'),generate(gu,'guest'))"
   ]
  },
  {
   "cell_type": "code",
   "execution_count": 115,
   "metadata": {},
   "outputs": [
    {
     "name": "stdout",
     "output_type": "stream",
     "text": [
      "先生你好请问你要吃什么吗？ 我要吃茄子炖猪肉\n",
      "先生你好请问你要吃什么吗？ 我要吃土豆炒鸡蛋\n",
      "先生你好您需要吃什么吗？ 我们要吃土豆炒鸡蛋\n",
      "先生你好您需要吃什么吗？ 我们想吃粉条烧鸡蛋\n",
      "小朋友您好您需要吃什么吗？ 我们要吃茄子炒小龙虾\n",
      "先生你好您需要吃什么吗？ 我们要吃茄子烧小龙虾\n",
      "女士您好您需要吃什么吗？ 我们想吃番茄炖鸡蛋\n",
      "先生你好请问你要吃什么吗？ 俺想吃番茄烧小龙虾\n",
      "先生您好您需要吃什么吗？ 俺要吃土豆炖猪肉\n"
     ]
    }
   ],
   "source": [
    "generate_n(10)"
   ]
  },
  {
   "cell_type": "markdown",
   "metadata": {},
   "source": [
    "# 2. 使用新数据源完成语言模型的训练"
   ]
  },
  {
   "cell_type": "code",
   "execution_count": null,
   "metadata": {},
   "outputs": [],
   "source": []
  }
 ],
 "metadata": {
  "kernelspec": {
   "display_name": "Python 3",
   "language": "python",
   "name": "python3"
  },
  "language_info": {
   "codemirror_mode": {
    "name": "ipython",
    "version": 3
   },
   "file_extension": ".py",
   "mimetype": "text/x-python",
   "name": "python",
   "nbconvert_exporter": "python",
   "pygments_lexer": "ipython3",
   "version": "3.7.1"
  }
 },
 "nbformat": 4,
 "nbformat_minor": 2
}
